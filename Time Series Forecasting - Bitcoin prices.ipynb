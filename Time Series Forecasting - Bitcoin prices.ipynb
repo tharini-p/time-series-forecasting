{
 "cells": [
  {
   "cell_type": "markdown",
   "id": "3833bbf2",
   "metadata": {},
   "source": [
    "### Importing libraries"
   ]
  },
  {
   "cell_type": "code",
   "execution_count": 63,
   "id": "fe5bb355",
   "metadata": {
    "scrolled": false
   },
   "outputs": [],
   "source": [
    "import pandas as pd\n",
    "import numpy as np\n",
    "import pylab as p\n",
    "import matplotlib.pyplot as plt\n",
    "from collections import Counter\n",
    "import re\n",
    "\n",
    "import statsmodels.api as sm\n",
    "import statsmodels.tsa.api as smt\n",
    "import statsmodels.formula.api as smf\n",
    "\n",
    "from pmdarima.arima import auto_arima\n",
    "from sklearn.metrics import mean_squared_error\n",
    "\n",
    "import warnings\n",
    "warnings.filterwarnings('ignore')"
   ]
  },
  {
   "cell_type": "markdown",
   "id": "716c7583",
   "metadata": {},
   "source": [
    "### Importing data\n",
    "Data source: https://finance.yahoo.com/quote/BTC-USD/history/\n",
    "\n",
    "The dataset contains the Bitcoin opening and closing prices between 2015-01-01 and 2022-03-31"
   ]
  },
  {
   "cell_type": "code",
   "execution_count": 64,
   "id": "d7b478a3",
   "metadata": {
    "scrolled": false
   },
   "outputs": [],
   "source": [
    "df = pd.read_csv('coin_Bitcoin.csv')"
   ]
  },
  {
   "cell_type": "code",
   "execution_count": 65,
   "id": "50ccfd2a",
   "metadata": {
    "scrolled": false
   },
   "outputs": [
    {
     "data": {
      "text/html": [
       "<div>\n",
       "<style scoped>\n",
       "    .dataframe tbody tr th:only-of-type {\n",
       "        vertical-align: middle;\n",
       "    }\n",
       "\n",
       "    .dataframe tbody tr th {\n",
       "        vertical-align: top;\n",
       "    }\n",
       "\n",
       "    .dataframe thead th {\n",
       "        text-align: right;\n",
       "    }\n",
       "</style>\n",
       "<table border=\"1\" class=\"dataframe\">\n",
       "  <thead>\n",
       "    <tr style=\"text-align: right;\">\n",
       "      <th></th>\n",
       "      <th>SNo</th>\n",
       "      <th>Name</th>\n",
       "      <th>Symbol</th>\n",
       "      <th>Date</th>\n",
       "      <th>High</th>\n",
       "      <th>Low</th>\n",
       "      <th>Open</th>\n",
       "      <th>Close</th>\n",
       "      <th>Volume</th>\n",
       "      <th>Marketcap</th>\n",
       "    </tr>\n",
       "  </thead>\n",
       "  <tbody>\n",
       "    <tr>\n",
       "      <th>2986</th>\n",
       "      <td>2987</td>\n",
       "      <td>Bitcoin</td>\n",
       "      <td>BTC</td>\n",
       "      <td>2021-07-02 23:59:59</td>\n",
       "      <td>33939.588699</td>\n",
       "      <td>32770.680780</td>\n",
       "      <td>33549.600177</td>\n",
       "      <td>33897.048590</td>\n",
       "      <td>3.872897e+10</td>\n",
       "      <td>6.354508e+11</td>\n",
       "    </tr>\n",
       "    <tr>\n",
       "      <th>2987</th>\n",
       "      <td>2988</td>\n",
       "      <td>Bitcoin</td>\n",
       "      <td>BTC</td>\n",
       "      <td>2021-07-03 23:59:59</td>\n",
       "      <td>34909.259899</td>\n",
       "      <td>33402.696536</td>\n",
       "      <td>33854.421362</td>\n",
       "      <td>34668.548402</td>\n",
       "      <td>2.438396e+10</td>\n",
       "      <td>6.499397e+11</td>\n",
       "    </tr>\n",
       "    <tr>\n",
       "      <th>2988</th>\n",
       "      <td>2989</td>\n",
       "      <td>Bitcoin</td>\n",
       "      <td>BTC</td>\n",
       "      <td>2021-07-04 23:59:59</td>\n",
       "      <td>35937.567147</td>\n",
       "      <td>34396.477458</td>\n",
       "      <td>34665.564866</td>\n",
       "      <td>35287.779766</td>\n",
       "      <td>2.492431e+10</td>\n",
       "      <td>6.615748e+11</td>\n",
       "    </tr>\n",
       "    <tr>\n",
       "      <th>2989</th>\n",
       "      <td>2990</td>\n",
       "      <td>Bitcoin</td>\n",
       "      <td>BTC</td>\n",
       "      <td>2021-07-05 23:59:59</td>\n",
       "      <td>35284.344430</td>\n",
       "      <td>33213.661034</td>\n",
       "      <td>35284.344430</td>\n",
       "      <td>33746.002456</td>\n",
       "      <td>2.672155e+10</td>\n",
       "      <td>6.326962e+11</td>\n",
       "    </tr>\n",
       "    <tr>\n",
       "      <th>2990</th>\n",
       "      <td>2991</td>\n",
       "      <td>Bitcoin</td>\n",
       "      <td>BTC</td>\n",
       "      <td>2021-07-06 23:59:59</td>\n",
       "      <td>35038.536363</td>\n",
       "      <td>33599.916169</td>\n",
       "      <td>33723.509655</td>\n",
       "      <td>34235.193451</td>\n",
       "      <td>2.650126e+10</td>\n",
       "      <td>6.418992e+11</td>\n",
       "    </tr>\n",
       "  </tbody>\n",
       "</table>\n",
       "</div>"
      ],
      "text/plain": [
       "       SNo     Name Symbol                 Date          High           Low  \\\n",
       "2986  2987  Bitcoin    BTC  2021-07-02 23:59:59  33939.588699  32770.680780   \n",
       "2987  2988  Bitcoin    BTC  2021-07-03 23:59:59  34909.259899  33402.696536   \n",
       "2988  2989  Bitcoin    BTC  2021-07-04 23:59:59  35937.567147  34396.477458   \n",
       "2989  2990  Bitcoin    BTC  2021-07-05 23:59:59  35284.344430  33213.661034   \n",
       "2990  2991  Bitcoin    BTC  2021-07-06 23:59:59  35038.536363  33599.916169   \n",
       "\n",
       "              Open         Close        Volume     Marketcap  \n",
       "2986  33549.600177  33897.048590  3.872897e+10  6.354508e+11  \n",
       "2987  33854.421362  34668.548402  2.438396e+10  6.499397e+11  \n",
       "2988  34665.564866  35287.779766  2.492431e+10  6.615748e+11  \n",
       "2989  35284.344430  33746.002456  2.672155e+10  6.326962e+11  \n",
       "2990  33723.509655  34235.193451  2.650126e+10  6.418992e+11  "
      ]
     },
     "execution_count": 65,
     "metadata": {},
     "output_type": "execute_result"
    }
   ],
   "source": [
    "df.tail()"
   ]
  },
  {
   "cell_type": "code",
   "execution_count": 66,
   "id": "bb476030",
   "metadata": {
    "scrolled": false
   },
   "outputs": [
    {
     "data": {
      "text/html": [
       "<div>\n",
       "<style scoped>\n",
       "    .dataframe tbody tr th:only-of-type {\n",
       "        vertical-align: middle;\n",
       "    }\n",
       "\n",
       "    .dataframe tbody tr th {\n",
       "        vertical-align: top;\n",
       "    }\n",
       "\n",
       "    .dataframe thead th {\n",
       "        text-align: right;\n",
       "    }\n",
       "</style>\n",
       "<table border=\"1\" class=\"dataframe\">\n",
       "  <thead>\n",
       "    <tr style=\"text-align: right;\">\n",
       "      <th></th>\n",
       "      <th>SNo</th>\n",
       "      <th>High</th>\n",
       "      <th>Low</th>\n",
       "      <th>Open</th>\n",
       "      <th>Close</th>\n",
       "      <th>Volume</th>\n",
       "      <th>Marketcap</th>\n",
       "    </tr>\n",
       "  </thead>\n",
       "  <tbody>\n",
       "    <tr>\n",
       "      <th>count</th>\n",
       "      <td>2991.000000</td>\n",
       "      <td>2991.000000</td>\n",
       "      <td>2991.000000</td>\n",
       "      <td>2991.000000</td>\n",
       "      <td>2991.000000</td>\n",
       "      <td>2.991000e+03</td>\n",
       "      <td>2.991000e+03</td>\n",
       "    </tr>\n",
       "    <tr>\n",
       "      <th>mean</th>\n",
       "      <td>1496.000000</td>\n",
       "      <td>6893.326038</td>\n",
       "      <td>6486.009539</td>\n",
       "      <td>6700.146240</td>\n",
       "      <td>6711.290443</td>\n",
       "      <td>1.090633e+10</td>\n",
       "      <td>1.208761e+11</td>\n",
       "    </tr>\n",
       "    <tr>\n",
       "      <th>std</th>\n",
       "      <td>863.571653</td>\n",
       "      <td>11642.832456</td>\n",
       "      <td>10869.032130</td>\n",
       "      <td>11288.043736</td>\n",
       "      <td>11298.141921</td>\n",
       "      <td>1.888895e+10</td>\n",
       "      <td>2.109438e+11</td>\n",
       "    </tr>\n",
       "    <tr>\n",
       "      <th>min</th>\n",
       "      <td>1.000000</td>\n",
       "      <td>74.561096</td>\n",
       "      <td>65.526001</td>\n",
       "      <td>68.504997</td>\n",
       "      <td>68.431000</td>\n",
       "      <td>0.000000e+00</td>\n",
       "      <td>7.784112e+08</td>\n",
       "    </tr>\n",
       "    <tr>\n",
       "      <th>25%</th>\n",
       "      <td>748.500000</td>\n",
       "      <td>436.179001</td>\n",
       "      <td>422.879486</td>\n",
       "      <td>430.445496</td>\n",
       "      <td>430.569489</td>\n",
       "      <td>3.036725e+07</td>\n",
       "      <td>6.305579e+09</td>\n",
       "    </tr>\n",
       "    <tr>\n",
       "      <th>50%</th>\n",
       "      <td>1496.000000</td>\n",
       "      <td>2387.610107</td>\n",
       "      <td>2178.500000</td>\n",
       "      <td>2269.889893</td>\n",
       "      <td>2286.409912</td>\n",
       "      <td>9.460360e+08</td>\n",
       "      <td>3.741503e+10</td>\n",
       "    </tr>\n",
       "    <tr>\n",
       "      <th>75%</th>\n",
       "      <td>2243.500000</td>\n",
       "      <td>8733.926948</td>\n",
       "      <td>8289.800459</td>\n",
       "      <td>8569.656494</td>\n",
       "      <td>8576.238715</td>\n",
       "      <td>1.592015e+10</td>\n",
       "      <td>1.499957e+11</td>\n",
       "    </tr>\n",
       "    <tr>\n",
       "      <th>max</th>\n",
       "      <td>2991.000000</td>\n",
       "      <td>64863.098908</td>\n",
       "      <td>62208.964366</td>\n",
       "      <td>63523.754869</td>\n",
       "      <td>63503.457930</td>\n",
       "      <td>3.509679e+11</td>\n",
       "      <td>1.186364e+12</td>\n",
       "    </tr>\n",
       "  </tbody>\n",
       "</table>\n",
       "</div>"
      ],
      "text/plain": [
       "               SNo          High           Low          Open         Close  \\\n",
       "count  2991.000000   2991.000000   2991.000000   2991.000000   2991.000000   \n",
       "mean   1496.000000   6893.326038   6486.009539   6700.146240   6711.290443   \n",
       "std     863.571653  11642.832456  10869.032130  11288.043736  11298.141921   \n",
       "min       1.000000     74.561096     65.526001     68.504997     68.431000   \n",
       "25%     748.500000    436.179001    422.879486    430.445496    430.569489   \n",
       "50%    1496.000000   2387.610107   2178.500000   2269.889893   2286.409912   \n",
       "75%    2243.500000   8733.926948   8289.800459   8569.656494   8576.238715   \n",
       "max    2991.000000  64863.098908  62208.964366  63523.754869  63503.457930   \n",
       "\n",
       "             Volume     Marketcap  \n",
       "count  2.991000e+03  2.991000e+03  \n",
       "mean   1.090633e+10  1.208761e+11  \n",
       "std    1.888895e+10  2.109438e+11  \n",
       "min    0.000000e+00  7.784112e+08  \n",
       "25%    3.036725e+07  6.305579e+09  \n",
       "50%    9.460360e+08  3.741503e+10  \n",
       "75%    1.592015e+10  1.499957e+11  \n",
       "max    3.509679e+11  1.186364e+12  "
      ]
     },
     "execution_count": 66,
     "metadata": {},
     "output_type": "execute_result"
    }
   ],
   "source": [
    "df.describe()"
   ]
  },
  {
   "cell_type": "markdown",
   "id": "1bed4b24",
   "metadata": {},
   "source": [
    "### Plotting the closing prices"
   ]
  },
  {
   "cell_type": "code",
   "execution_count": 67,
   "id": "6a78bcf3",
   "metadata": {
    "scrolled": false
   },
   "outputs": [],
   "source": [
    "cp = df[['Date','Close']]\n",
    "cp['Date'] = pd.to_datetime(cp['Date'], format = '%Y-%m-%d')\n",
    "#cp = cp.set_index('Date')\n",
    "#cp.sort_index(inplace=True)"
   ]
  },
  {
   "cell_type": "code",
   "execution_count": 68,
   "id": "739fe307",
   "metadata": {
    "scrolled": false
   },
   "outputs": [
    {
     "data": {
      "text/plain": [
       "<AxesSubplot:xlabel='Date', ylabel='Close'>"
      ]
     },
     "execution_count": 68,
     "metadata": {},
     "output_type": "execute_result"
    },
    {
     "data": {
      "image/png": "[encoded data removed]",
      "text/plain": [
       "<Figure size 432x288 with 1 Axes>"
      ]
     },
     "metadata": {
      "needs_background": "light"
     },
     "output_type": "display_data"
    }
   ],
   "source": [
    "import seaborn as sns\n",
    "fig,ax = plt.subplots()\n",
    "sns.lineplot(data=cp, x='Date', y='Close', ax=ax)"
   ]
  },
  {
   "cell_type": "markdown",
   "id": "6ff5492a",
   "metadata": {},
   "source": [
    "### Checking Stationarity"
   ]
  },
  {
   "cell_type": "code",
   "execution_count": 69,
   "id": "2fd8258a",
   "metadata": {
    "scrolled": false
   },
   "outputs": [
    {
     "data": {
      "image/png": "[encoded data removed]",
      "text/plain": [
       "<Figure size 1080x432 with 2 Axes>"
      ]
     },
     "metadata": {
      "needs_background": "light"
     },
     "output_type": "display_data"
    }
   ],
   "source": [
    "series = cp['Close']   \n",
    "date = cp['Date']\n",
    "#Determing rolling mean & standard deviation\n",
    "rolmean = series.rolling(window=12,center=False).mean()\n",
    "rolstd = series.rolling(window=12,center=False).std()\n",
    "\n",
    "#Plot rolling statistics\n",
    "fig, (ax1, ax2) = plt.subplots(1, 2,figsize=(15,6))\n",
    "ax1.plot(date,rolmean,color='black')\n",
    "ax1.set_title(\"Rolling Mean\")\n",
    "ax2.plot(date,rolstd,color='orange')\n",
    "ax2.set_title(\"Rolling Standard Deviation\")\n",
    "plt.show()"
   ]
  },
  {
   "cell_type": "code",
   "execution_count": 70,
   "id": "c12956b9",
   "metadata": {
    "scrolled": false
   },
   "outputs": [
    {
     "name": "stdout",
     "output_type": "stream",
     "text": [
      "(-0.7973098451195643, 0.8199110033239141, 29, 2961, {'1%': -3.4325603944919445, '5%': -2.8625166073924957, '10%': -2.567289874591689}, 45929.032374699236)\n",
      "ADF Stastistic: -0.797310\n",
      "p-value: 0.819911\n",
      "The graph is non stationary\n"
     ]
    }
   ],
   "source": [
    "#Augmented Dicky Fuller Test:\n",
    "from statsmodels.tsa.stattools import adfuller\n",
    "\n",
    "def test_stationarity(x):        \n",
    "    result=adfuller(x)\n",
    "    print(result)\n",
    "    print('ADF Stastistic: %f'%result[0])\n",
    "    print('p-value: %f'%result[1])\n",
    "    pvalue=result[1]\n",
    "    if pvalue >= 0.05:\n",
    "        print(\"The graph is non stationary\")\n",
    "    else:\n",
    "        print(\"The graph is stationary\")\n",
    "\n",
    "\n",
    "test_stationarity(series)"
   ]
  },
  {
   "cell_type": "markdown",
   "id": "fe3e5bea",
   "metadata": {},
   "source": [
    "### Making the time series stationary"
   ]
  },
  {
   "cell_type": "code",
   "execution_count": 71,
   "id": "0fb0b9e5",
   "metadata": {
    "scrolled": false
   },
   "outputs": [
    {
     "data": {
      "image/png": "[encoded data removed]",
      "text/plain": [
       "<Figure size 432x288 with 1 Axes>"
      ]
     },
     "metadata": {
      "needs_background": "light"
     },
     "output_type": "display_data"
    },
    {
     "name": "stdout",
     "output_type": "stream",
     "text": [
      "(-0.7766926675665871, 0.8258727405184354, 23, 2967, {'1%': -3.432555920657187, '5%': -2.8625146314725565, '10%': -2.5672888226314647}, -10304.074468791245)\n",
      "ADF Stastistic: -0.776693\n",
      "p-value: 0.825873\n",
      "The graph is non stationary\n"
     ]
    }
   ],
   "source": [
    "#log-transforming the series\n",
    "series_log = np.log(series)\n",
    "plot.plot(series_log,color=\"blue\")\n",
    "plot.show()\n",
    "\n",
    "test_stationarity(series_log)"
   ]
  },
  {
   "cell_type": "code",
   "execution_count": 72,
   "id": "40ed35ac",
   "metadata": {
    "scrolled": false
   },
   "outputs": [
    {
     "data": {
      "image/png": "[encoded data removed]",
      "text/plain": [
       "<Figure size 432x288 with 1 Axes>"
      ]
     },
     "metadata": {
      "needs_background": "light"
     },
     "output_type": "display_data"
    }
   ],
   "source": [
    "#removing trend and seasonality by differencing\n",
    "series_log_diff = series_log - series_log.shift()\n",
    "plot.plot(series_log_diff)\n",
    "plot.show()"
   ]
  },
  {
   "cell_type": "code",
   "execution_count": 73,
   "id": "8d9f849c",
   "metadata": {
    "scrolled": false
   },
   "outputs": [
    {
     "name": "stdout",
     "output_type": "stream",
     "text": [
      "(-10.394250782284034, 1.984170434468023e-18, 22, 2967, {'1%': -3.432555920657187, '5%': -2.8625146314725565, '10%': -2.5672888226314647}, -10301.26768194262)\n",
      "ADF Stastistic: -10.394251\n",
      "p-value: 0.000000\n",
      "The graph is stationary\n"
     ]
    }
   ],
   "source": [
    "series_log_diff.dropna(inplace=True)\n",
    "test_stationarity(series_log_diff)"
   ]
  },
  {
   "cell_type": "markdown",
   "id": "2ae9d86e",
   "metadata": {},
   "source": [
    "### The series is stationary after log transformation and differencing"
   ]
  },
  {
   "cell_type": "markdown",
   "id": "d2944af4",
   "metadata": {},
   "source": [
    "### ARIMA for forecasting"
   ]
  },
  {
   "cell_type": "code",
   "execution_count": 74,
   "id": "768a3f2a",
   "metadata": {
    "scrolled": false
   },
   "outputs": [],
   "source": [
    "from statsmodels.tsa.arima_model import ARIMA\n",
    "cp['Year'] = pd.DatetimeIndex(cp['Date']).year\n",
    "\n",
    "#Splitting train and test data\n",
    "\n",
    "tr_l = 0.85*len(cp)\n",
    "ts_l = len(cp) - tr_l"
   ]
  },
  {
   "cell_type": "code",
   "execution_count": 75,
   "id": "3dc7a90b",
   "metadata": {
    "scrolled": false
   },
   "outputs": [
    {
     "data": {
      "image/png": "[encoded data removed]",
      "text/plain": [
       "<Figure size 432x288 with 1 Axes>"
      ]
     },
     "metadata": {
      "needs_background": "light"
     },
     "output_type": "display_data"
    }
   ],
   "source": [
    "series_tr = series[:int(tr_l)]\n",
    "series_log_tr = series_log[:int(tr_l)]\n",
    "series_log_diff_tr = series_log_tr - series_log_tr.shift()\n",
    "series_log_diff_tr.dropna(inplace=True)\n",
    "\n",
    "series_ts = series[int(tr_l):]\n",
    "series_log_ts = series_log[int(tr_l):]\n",
    "\n",
    "model = ARIMA(series_log_tr, order=(2,1,0))  \n",
    "results_ARIMA = model.fit(disp=-1)  \n",
    "plot.plot(series_log_diff_tr)\n",
    "plot.plot(results_ARIMA.fittedvalues, color='red')\n",
    "plot.title('RSS: %.7f'% sum((results_ARIMA.fittedvalues-series_log_diff_tr)**2))\n",
    "plot.show()"
   ]
  },
  {
   "cell_type": "markdown",
   "id": "77e54672",
   "metadata": {},
   "source": [
    "#### Evaluation using time-series cross validation (rolling forecasting origin)"
   ]
  },
  {
   "cell_type": "code",
   "execution_count": 76,
   "id": "09696b6b",
   "metadata": {
    "scrolled": false
   },
   "outputs": [
    {
     "name": "stdout",
     "output_type": "stream",
     "text": [
      "Printing Forecasted vs Actual Values:\n",
      "\n",
      "\n",
      "predicted = 6857.169457,   actual = 6842.427861,   error = 0.215444  %\n",
      "predicted = 6853.117718,   actual = 6642.109893,   error = 3.176819  %\n",
      "predicted = 6654.911125,   actual = 7116.804218,   error = 6.490176  %\n",
      "predicted = 7121.237823,   actual = 7096.184659,   error = 0.353051  %\n",
      "predicted = 7107.112837,   actual = 7257.664858,   error = 2.074387  %\n",
      "predicted = 7266.736058,   actual = 7189.424824,   error = 1.075347  %\n",
      "predicted = 7201.493791,   actual = 6881.958693,   error = 4.643084  %\n",
      "predicted = 6896.773098,   actual = 6880.323474,   error = 0.239082  %\n",
      "predicted = 6891.136205,   actual = 7117.207479,   error = 3.176404  %\n",
      "predicted = 7124.916605,   actual = 7429.724649,   error = 4.102548  %\n",
      "predicted = 7436.791234,   actual = 7550.901027,   error = 1.511208  %\n",
      "predicted = 7560.853920,   actual = 7569.936034,   error = 0.119976  %\n",
      "predicted = 7581.488974,   actual = 7679.867204,   error = 1.280989  %\n",
      "predicted = 7690.490447,   actual = 7795.600835,   error = 1.348330  %\n",
      "predicted = 7806.295658,   actual = 7807.058451,   error = 0.009771  %\n",
      "predicted = 7819.177433,   actual = 8801.037767,   error = 11.156188  %\n",
      "predicted = 8801.252560,   actual = 8658.554180,   error = 1.648062  %\n",
      "predicted = 8674.044335,   actual = 8864.766808,   error = 2.151466  %\n",
      "predicted = 8876.337098,   actual = 8988.596207,   error = 1.248906  %\n",
      "predicted = 9001.584231,   actual = 8897.468510,   error = 1.170172  %\n",
      "predicted = 8913.242502,   actual = 8912.654605,   error = 0.006596  %\n",
      "predicted = 8927.002353,   actual = 9003.070178,   error = 0.844910  %\n",
      "predicted = 9016.539477,   actual = 9268.762081,   error = 2.721211  %\n",
      "predicted = 9280.296242,   actual = 9951.518745,   error = 6.744925  %\n",
      "predicted = 9958.702243,   actual = 9842.666368,   error = 1.178907  %\n",
      "predicted = 9860.538993,   actual = 9593.896734,   error = 2.779290  %\n",
      "predicted = 9613.174976,   actual = 8756.431142,   error = 9.784167  %\n",
      "predicted = 8781.050779,   actual = 8601.796202,   error = 2.083920  %\n",
      "predicted = 8617.632854,   actual = 8804.477811,   error = 2.122158  %\n",
      "predicted = 8816.229062,   actual = 9269.987706,   error = 4.894922  %\n",
      "predicted = 9279.111446,   actual = 9733.721471,   error = 4.670465  %\n",
      "predicted = 9743.962254,   actual = 9328.197226,   error = 4.457078  %\n",
      "predicted = 9348.028954,   actual = 9377.014026,   error = 0.309108  %\n",
      "predicted = 9392.171599,   actual = 9670.739371,   error = 2.880522  %\n",
      "predicted = 9682.999494,   actual = 9726.574815,   error = 0.448003  %\n",
      "predicted = 9741.663999,   actual = 9729.037919,   error = 0.129777  %\n",
      "predicted = 9745.065472,   actual = 9522.981157,   error = 2.332088  %\n",
      "predicted = 9541.194342,   actual = 9081.762023,   error = 5.058846  %\n",
      "predicted = 9102.001694,   actual = 9182.577518,   error = 0.877486  %\n",
      "predicted = 9196.845474,   actual = 9209.287428,   error = 0.135102  %\n",
      "predicted = 9223.875184,   actual = 8790.368001,   error = 4.931616  %\n",
      "predicted = 8809.530613,   actual = 8906.934761,   error = 1.093577  %\n",
      "predicted = 8920.442381,   actual = 8835.053061,   error = 0.966483  %\n",
      "predicted = 8850.065679,   actual = 9181.017948,   error = 3.604745  %\n",
      "predicted = 9191.674519,   actual = 9525.751095,   error = 3.507089  %\n",
      "predicted = 9536.696223,   actual = 9439.124390,   error = 1.033696  %\n",
      "predicted = 9455.210205,   actual = 9700.414072,   error = 2.527767  %\n",
      "predicted = 9713.245703,   actual = 9461.058918,   error = 2.665524  %\n",
      "predicted = 9479.236161,   actual = 10167.268101,   error = 6.767127  %\n",
      "predicted = 10174.996877,   actual = 9529.804149,   error = 6.770262  %\n",
      "predicted = 9553.726190,   actual = 9656.717765,   error = 1.066528  %\n",
      "predicted = 9670.924813,   actual = 9800.636595,   error = 1.323504  %\n",
      "predicted = 9814.761607,   actual = 9665.532789,   error = 1.543927  %\n",
      "predicted = 9683.245637,   actual = 9653.679263,   error = 0.306271  %\n",
      "predicted = 9669.763084,   actual = 9758.852417,   error = 0.912908  %\n",
      "predicted = 9773.463570,   actual = 9771.489484,   error = 0.020203  %\n",
      "predicted = 9787.367145,   actual = 9795.700195,   error = 0.085068  %\n",
      "predicted = 9811.497662,   actual = 9870.094453,   error = 0.593680  %\n",
      "predicted = 9885.331136,   actual = 9321.781298,   error = 6.045517  %\n",
      "predicted = 9344.371545,   actual = 9480.843789,   error = 1.439453  %\n",
      "predicted = 9494.276651,   actual = 9475.277338,   error = 0.200515  %\n",
      "predicted = 9490.763781,   actual = 9386.787892,   error = 1.107683  %\n",
      "predicted = 9403.321120,   actual = 9450.701987,   error = 0.501348  %\n",
      "predicted = 9465.237520,   actual = 9538.024374,   error = 0.763123  %\n",
      "predicted = 9552.332358,   actual = 9480.255366,   error = 0.760285  %\n",
      "predicted = 9496.488965,   actual = 9411.840462,   error = 0.899383  %\n",
      "predicted = 9428.143331,   actual = 9288.018716,   error = 1.508660  %\n",
      "predicted = 9304.841614,   actual = 9332.340762,   error = 0.294665  %\n",
      "predicted = 9346.905614,   actual = 9303.629714,   error = 0.465151  %\n",
      "predicted = 9319.092097,   actual = 9648.717610,   error = 3.416262  %\n",
      "predicted = 9659.514737,   actual = 9629.658366,   error = 0.310046  %\n",
      "predicted = 9645.511026,   actual = 9313.610349,   error = 3.563609  %\n",
      "predicted = 9333.111678,   actual = 9264.813043,   error = 0.737183  %\n",
      "predicted = 9280.676413,   actual = 9162.917604,   error = 1.285167  %\n",
      "predicted = 9179.139562,   actual = 9045.390957,   error = 1.478638  %\n",
      "predicted = 9061.611258,   actual = 9143.582191,   error = 0.896486  %\n",
      "predicted = 9156.972235,   actual = 9190.854465,   error = 0.368652  %\n",
      "predicted = 9204.936240,   actual = 9137.993400,   error = 0.732577  %\n",
      "predicted = 9153.403188,   actual = 9228.325590,   error = 0.811874  %\n",
      "predicted = 9241.944814,   actual = 9123.410154,   error = 1.299236  %\n",
      "predicted = 9139.488329,   actual = 9087.303911,   error = 0.574256  %\n",
      "predicted = 9102.446919,   actual = 9132.487951,   error = 0.328947  %\n",
      "predicted = 9146.530247,   actual = 9073.942869,   error = 0.799954  %\n",
      "predicted = 9089.280434,   actual = 9375.474759,   error = 3.052585  %\n",
      "predicted = 9386.300665,   actual = 9252.277504,   error = 1.448542  %\n",
      "predicted = 9268.751115,   actual = 9428.333085,   error = 1.692579  %\n",
      "predicted = 9441.070523,   actual = 9277.967906,   error = 1.757956  %\n",
      "predicted = 9294.973160,   actual = 9278.807867,   error = 0.174217  %\n",
      "predicted = 9293.769157,   actual = 9240.346327,   error = 0.578147  %\n",
      "predicted = 9255.734121,   actual = 9276.499850,   error = 0.223853  %\n",
      "predicted = 9290.895789,   actual = 9243.613855,   error = 0.511509  %\n",
      "predicted = 9258.905430,   actual = 9243.213416,   error = 0.169768  %\n",
      "predicted = 9258.055706,   actual = 9192.837368,   error = 0.709447  %\n",
      "predicted = 9208.278759,   actual = 9132.227863,   error = 0.832775  %\n",
      "predicted = 9147.704582,   actual = 9151.392240,   error = 0.040296  %\n",
      "predicted = 9165.762545,   actual = 9159.039905,   error = 0.073399  %\n",
      "predicted = 9173.559394,   actual = 9185.816912,   error = 0.133440  %\n",
      "predicted = 9200.112590,   actual = 9164.231365,   error = 0.391536  %\n",
      "predicted = 9179.166888,   actual = 9374.887528,   error = 2.087712  %\n",
      "predicted = 9386.880765,   actual = 9525.363450,   error = 1.453831  %\n",
      "predicted = 9538.463089,   actual = 9581.072011,   error = 0.444720  %\n",
      "predicted = 9595.671834,   actual = 9536.892686,   error = 0.616334  %\n",
      "predicted = 9552.856964,   actual = 9677.113497,   error = 1.284025  %\n",
      "predicted = 9690.732080,   actual = 9905.167247,   error = 2.164882  %\n",
      "predicted = 9917.904853,   actual = 10990.873400,   error = 9.762359  %\n",
      "predicted = 10993.352351,   actual = 10912.823050,   error = 0.737933  %\n",
      "predicted = 10931.891023,   actual = 11100.468125,   error = 1.518649  %\n",
      "predicted = 11116.271662,   actual = 11111.214290,   error = 0.045516  %\n",
      "predicted = 11129.587142,   actual = 11323.466421,   error = 1.712190  %\n",
      "predicted = 11339.382466,   actual = 11759.592771,   error = 3.573341  %\n",
      "predicted = 11773.296383,   actual = 11053.613901,   error = 6.510834  %\n",
      "predicted = 11081.788321,   actual = 11246.348775,   error = 1.463234  %\n",
      "predicted = 11262.164113,   actual = 11205.892918,   error = 0.502157  %\n",
      "predicted = 11225.170970,   actual = 11747.022831,   error = 4.442418  %\n",
      "predicted = 11758.691052,   actual = 11779.773257,   error = 0.178970  %\n",
      "predicted = 11799.308008,   actual = 11601.472715,   error = 1.705260  %\n",
      "predicted = 11623.497089,   actual = 11754.045813,   error = 1.110671  %\n",
      "predicted = 11771.516497,   actual = 11675.739343,   error = 0.820309  %\n"
     ]
    },
    {
     "name": "stdout",
     "output_type": "stream",
     "text": [
      "predicted = 11696.495348,   actual = 11878.111325,   error = 1.528997  %\n",
      "predicted = 11895.091045,   actual = 11410.525677,   error = 4.246652  %\n",
      "predicted = 11436.385516,   actual = 11584.934576,   error = 1.282261  %\n",
      "predicted = 11601.517991,   actual = 11784.137389,   error = 1.549705  %\n",
      "predicted = 11800.976567,   actual = 11768.870619,   error = 0.272804  %\n",
      "predicted = 11788.883294,   actual = 11865.698570,   error = 0.647373  %\n",
      "predicted = 11884.181272,   actual = 11892.804063,   error = 0.072504  %\n",
      "predicted = 11912.404851,   actual = 12254.401908,   error = 2.790810  %\n",
      "predicted = 12269.678486,   actual = 11991.233246,   error = 2.322073  %\n",
      "predicted = 12015.406272,   actual = 11758.283592,   error = 2.186737  %\n",
      "predicted = 11781.357643,   actual = 11878.371621,   error = 0.816728  %\n",
      "predicted = 11896.466038,   actual = 11592.489045,   error = 2.622189  %\n",
      "predicted = 11616.070466,   actual = 11681.825562,   error = 0.562884  %\n",
      "predicted = 11699.915473,   actual = 11664.847995,   error = 0.300625  %\n",
      "predicted = 11684.587335,   actual = 11774.595841,   error = 0.764430  %\n",
      "predicted = 11792.616651,   actual = 11366.135082,   error = 3.752213  %\n",
      "predicted = 11391.047304,   actual = 11488.363490,   error = 0.847085  %\n",
      "predicted = 11505.462313,   actual = 11323.397032,   error = 1.607868  %\n",
      "predicted = 11344.665335,   actual = 11542.499733,   error = 1.713965  %\n",
      "predicted = 11558.236018,   actual = 11506.865318,   error = 0.446435  %\n",
      "predicted = 11526.606386,   actual = 11711.506161,   error = 1.578787  %\n",
      "predicted = 11727.847779,   actual = 11680.820490,   error = 0.402603  %\n",
      "predicted = 11700.832916,   actual = 11970.478741,   error = 2.252590  %\n",
      "predicted = 11986.004342,   actual = 11414.033733,   error = 5.011117  %\n",
      "predicted = 11441.514792,   actual = 10245.296686,   error = 11.675778  %\n",
      "predicted = 10277.676607,   actual = 10511.813881,   error = 2.227373  %\n",
      "predicted = 10524.940319,   actual = 10169.567221,   error = 3.494476  %\n",
      "predicted = 10191.164256,   actual = 10280.351703,   error = 0.867552  %\n",
      "predicted = 10294.987329,   actual = 10369.563739,   error = 0.719186  %\n",
      "predicted = 10385.023360,   actual = 10131.516646,   error = 2.502160  %\n",
      "predicted = 10151.392913,   actual = 10242.347780,   error = 0.888028  %\n",
      "predicted = 10256.978233,   actual = 10363.139040,   error = 1.024408  %\n",
      "predicted = 10378.070943,   actual = 10400.914685,   error = 0.219632  %\n",
      "predicted = 10417.189821,   actual = 10442.170603,   error = 0.239230  %\n",
      "predicted = 10458.419377,   actual = 10323.755798,   error = 1.304405  %\n",
      "predicted = 10342.176698,   actual = 10680.837433,   error = 3.170732  %\n",
      "predicted = 10692.544760,   actual = 10796.950986,   error = 0.966997  %\n",
      "predicted = 10812.933009,   actual = 10974.904892,   error = 1.475839  %\n",
      "predicted = 10990.156691,   actual = 10948.989915,   error = 0.375987  %\n",
      "predicted = 10967.334510,   actual = 10944.585804,   error = 0.207854  %\n",
      "predicted = 10962.452275,   actual = 11094.346276,   error = 1.188840  %\n",
      "predicted = 11110.167062,   actual = 10938.271289,   error = 1.571508  %\n",
      "predicted = 10958.518287,   actual = 10462.259618,   error = 4.743322  %\n",
      "predicted = 10486.027577,   actual = 10538.460321,   error = 0.497537  %\n",
      "predicted = 10554.037350,   actual = 10246.186493,   error = 3.004541  %\n",
      "predicted = 10267.002413,   actual = 10760.066257,   error = 4.582350  %\n",
      "predicted = 10769.099313,   actual = 10692.717212,   error = 0.714338  %\n",
      "predicted = 10711.498371,   actual = 10750.723579,   error = 0.364861  %\n",
      "predicted = 10767.137367,   actual = 10775.269376,   error = 0.075469  %\n",
      "predicted = 10792.363781,   actual = 10709.652182,   error = 0.772309  %\n",
      "predicted = 10727.972197,   actual = 10844.640981,   error = 1.075820  %\n",
      "predicted = 10860.018908,   actual = 10784.491578,   error = 0.700333  %\n",
      "predicted = 10802.970214,   actual = 10619.451908,   error = 1.728133  %\n",
      "predicted = 10639.023634,   actual = 10575.975042,   error = 0.596149  %\n",
      "predicted = 10593.490949,   actual = 10549.328900,   error = 0.418624  %\n",
      "predicted = 10566.634301,   actual = 10669.582543,   error = 0.964876  %\n",
      "predicted = 10684.851439,   actual = 10793.339428,   error = 1.005138  %\n",
      "predicted = 10808.930870,   actual = 10604.405889,   error = 1.928679  %\n",
      "predicted = 10624.441455,   actual = 10668.968955,   error = 0.417355  %\n",
      "predicted = 10684.945742,   actual = 10915.685731,   error = 2.113839  %\n",
      "predicted = 10929.502192,   actual = 11064.457592,   error = 1.219720  %\n",
      "predicted = 11080.267834,   actual = 11296.361428,   error = 1.912949  %\n",
      "predicted = 11311.263486,   actual = 11384.181953,   error = 0.640524  %\n",
      "predicted = 11401.582689,   actual = 11555.362888,   error = 1.330812  %\n",
      "predicted = 11571.677367,   actual = 11425.899401,   error = 1.275856  %\n",
      "predicted = 11446.653608,   actual = 11429.506887,   error = 0.150022  %\n",
      "predicted = 11447.942759,   actual = 11495.349650,   error = 0.412401  %\n",
      "predicted = 11513.074192,   actual = 11322.122686,   error = 1.686535  %\n",
      "predicted = 11343.216126,   actual = 11358.101567,   error = 0.131056  %\n",
      "predicted = 11375.835017,   actual = 11483.359712,   error = 0.936352  %\n",
      "predicted = 11500.145946,   actual = 11742.037150,   error = 2.060045  %\n",
      "predicted = 11757.339382,   actual = 11916.335141,   error = 1.334267  %\n",
      "predicted = 11933.440718,   actual = 12823.689189,   error = 6.942218  %\n",
      "predicted = 12831.073387,   actual = 12965.891290,   error = 1.039789  %\n",
      "predicted = 12986.603288,   actual = 12931.539023,   error = 0.425814  %\n",
      "predicted = 12953.791988,   actual = 13108.062612,   error = 1.176914  %\n",
      "predicted = 13127.276991,   actual = 13031.174311,   error = 0.737483  %\n",
      "predicted = 13054.297062,   actual = 13075.247697,   error = 0.160231  %\n",
      "predicted = 13096.326614,   actual = 13654.218440,   error = 4.085857  %\n",
      "predicted = 13668.424618,   actual = 13271.285369,   error = 2.992470  %\n",
      "predicted = 13299.934654,   actual = 13437.883241,   error = 1.026565  %\n",
      "predicted = 13457.402326,   actual = 13546.522269,   error = 0.657881  %\n",
      "predicted = 13567.834626,   actual = 13780.994702,   error = 1.546768  %\n",
      "predicted = 13800.770725,   actual = 13737.109829,   error = 0.463423  %\n",
      "predicted = 13761.219681,   actual = 13550.489384,   error = 1.555149  %\n",
      "predicted = 13576.025914,   actual = 13950.300847,   error = 2.682917  %\n",
      "predicted = 13967.429334,   actual = 14133.707153,   error = 1.176463  %\n",
      "predicted = 14155.290319,   actual = 15579.848460,   error = 9.143594  %\n",
      "predicted = 15584.278156,   actual = 15565.880581,   error = 0.118192  %\n",
      "predicted = 15595.489328,   actual = 14833.754108,   error = 5.135148  %\n",
      "predicted = 14869.888652,   actual = 15479.567038,   error = 3.938601  %\n",
      "predicted = 15495.597982,   actual = 15332.315597,   error = 1.064956  %\n",
      "predicted = 15361.497731,   actual = 15290.902681,   error = 0.461680  %\n",
      "predicted = 15317.748909,   actual = 15701.339732,   error = 2.443045  %\n",
      "predicted = 15721.997924,   actual = 16276.343949,   error = 3.405839  %\n",
      "predicted = 16295.964264,   actual = 16317.808190,   error = 0.133866  %\n",
      "predicted = 16345.981803,   actual = 16068.138707,   error = 1.729155  %\n",
      "predicted = 16099.875732,   actual = 15955.587439,   error = 0.904312  %\n",
      "predicted = 15984.835159,   actual = 16716.111324,   error = 4.374679  %\n",
      "predicted = 16733.306146,   actual = 17645.405767,   error = 5.169049  %\n",
      "predicted = 17662.563300,   actual = 17804.005632,   error = 0.794441  %\n",
      "predicted = 17833.508870,   actual = 17817.090248,   error = 0.092151  %\n",
      "predicted = 17848.500143,   actual = 18621.314369,   error = 4.150159  %\n",
      "predicted = 18642.344913,   actual = 18642.232766,   error = 0.000602  %\n",
      "predicted = 18675.550337,   actual = 18370.002524,   error = 1.663298  %\n",
      "predicted = 18406.735285,   actual = 18364.121591,   error = 0.232049  %\n",
      "predicted = 18396.815964,   actual = 19107.464450,   error = 3.719219  %\n",
      "predicted = 19130.441368,   actual = 18732.120777,   error = 2.126404  %\n",
      "predicted = 18771.281401,   actual = 17150.623578,   error = 9.449556  %\n",
      "predicted = 17203.104058,   actual = 17108.401728,   error = 0.553543  %\n",
      "predicted = 17139.766377,   actual = 17717.415011,   error = 3.260344  %\n",
      "predicted = 17739.681119,   actual = 18177.483420,   error = 2.408487  %\n",
      "predicted = 18202.265372,   actual = 19625.835029,   error = 7.253549  %\n"
     ]
    },
    {
     "name": "stdout",
     "output_type": "stream",
     "text": [
      "predicted = 19639.655478,   actual = 18802.998300,   error = 4.449595  %\n",
      "predicted = 18847.212378,   actual = 19201.091157,   error = 1.843014  %\n",
      "predicted = 19229.964490,   actual = 19445.398480,   error = 1.107892  %\n",
      "predicted = 19476.389435,   actual = 18699.765613,   error = 4.153121  %\n",
      "predicted = 18743.814971,   actual = 19154.231131,   error = 2.142692  %\n",
      "predicted = 19182.136290,   actual = 19345.120959,   error = 0.842510  %\n",
      "predicted = 19376.507142,   actual = 19191.631287,   error = 0.963315  %\n",
      "predicted = 19228.107827,   actual = 18321.144916,   error = 4.950362  %\n",
      "predicted = 18366.519914,   actual = 18553.915377,   error = 1.010005  %\n",
      "predicted = 18584.177094,   actual = 18264.992107,   error = 1.747523  %\n",
      "predicted = 18301.457268,   actual = 18058.903347,   error = 1.343127  %\n",
      "predicted = 18094.101901,   actual = 18803.656870,   error = 3.773495  %\n",
      "predicted = 18825.762575,   actual = 19142.382534,   error = 1.654026  %\n",
      "predicted = 19170.589092,   actual = 19246.644341,   error = 0.395161  %\n",
      "predicted = 19279.095068,   actual = 19417.076033,   error = 0.710617  %\n",
      "predicted = 19449.118659,   actual = 21310.598131,   error = 8.734994  %\n",
      "predicted = 21319.649614,   actual = 22805.161492,   error = 6.513928  %\n",
      "predicted = 22824.326702,   actual = 23137.960562,   error = 1.355495  %\n",
      "predicted = 23175.305430,   actual = 23869.831964,   error = 2.909641  %\n",
      "predicted = 23904.107891,   actual = 23477.295197,   error = 1.817981  %\n",
      "predicted = 23525.857221,   actual = 22803.081409,   error = 3.169641  %\n",
      "predicted = 22854.084678,   actual = 23783.028503,   error = 3.905911  %\n",
      "predicted = 23813.813721,   actual = 23241.344865,   error = 2.463149  %\n",
      "predicted = 23291.288358,   actual = 23735.949728,   error = 1.873367  %\n",
      "predicted = 23773.062811,   actual = 24664.790274,   error = 3.615386  %\n",
      "predicted = 24697.503233,   actual = 26437.037509,   error = 6.579914  %\n",
      "predicted = 26462.387575,   actual = 26272.294567,   error = 0.723549  %\n",
      "predicted = 26323.686468,   actual = 27084.807886,   error = 2.810141  %\n",
      "predicted = 27125.017195,   actual = 27362.436557,   error = 0.867684  %\n",
      "predicted = 27410.789763,   actual = 28840.953420,   error = 4.958795  %\n",
      "predicted = 28876.140343,   actual = 29001.719822,   error = 0.433007  %\n",
      "predicted = 29055.912190,   actual = 29374.151889,   error = 1.083400  %\n",
      "predicted = 29425.708132,   actual = 32127.267939,   error = 8.408931  %\n",
      "predicted = 32152.630016,   actual = 32782.024466,   error = 1.919938  %\n",
      "predicted = 32839.838405,   actual = 31971.913522,   error = 2.714648  %\n",
      "predicted = 32044.674367,   actual = 33992.429344,   error = 5.729967  %\n",
      "predicted = 34031.667169,   actual = 36824.364410,   error = 7.583830  %\n",
      "predicted = 36861.966804,   actual = 39371.042353,   error = 6.372896  %\n",
      "predicted = 39423.583501,   actual = 40797.610720,   error = 3.367911  %\n",
      "predicted = 40868.443574,   actual = 40254.546498,   error = 1.525038  %\n",
      "predicted = 40343.518280,   actual = 38356.439507,   error = 5.180561  %\n",
      "predicted = 38452.794223,   actual = 35566.655940,   error = 8.114731  %\n",
      "predicted = 35661.757315,   actual = 33922.960582,   error = 5.125722  %\n",
      "predicted = 33999.936659,   actual = 37316.359400,   error = 8.887316  %\n",
      "predicted = 37354.680884,   actual = 39187.328121,   error = 4.676632  %\n",
      "predicted = 39247.245444,   actual = 36825.365851,   error = 6.576661  %\n",
      "predicted = 36918.393203,   actual = 36178.138901,   error = 2.046137  %\n",
      "predicted = 36259.834922,   actual = 35791.277921,   error = 1.309137  %\n",
      "predicted = 35866.709220,   actual = 36630.075683,   error = 2.083988  %\n",
      "predicted = 36695.362394,   actual = 36069.806394,   error = 1.734293  %\n",
      "predicted = 36145.261459,   actual = 35547.750885,   error = 1.680867  %\n",
      "predicted = 35623.781840,   actual = 30825.698506,   error = 15.565206  %\n",
      "predicted = 30925.352464,   actual = 33005.763562,   error = 6.303175  %\n",
      "predicted = 33051.837783,   actual = 32067.642882,   error = 3.069121  %\n",
      "predicted = 32139.086332,   actual = 32289.378087,   error = 0.465453  %\n",
      "predicted = 32349.844521,   actual = 32366.393049,   error = 0.051129  %\n",
      "predicted = 32428.146187,   actual = 32569.849557,   error = 0.435075  %\n",
      "predicted = 32630.672642,   actual = 30432.547079,   error = 7.222943  %\n",
      "predicted = 30514.302185,   actual = 33466.096358,   error = 8.820252  %\n",
      "predicted = 33491.988190,   actual = 34316.387650,   error = 2.402349  %\n",
      "predicted = 34370.716776,   actual = 34269.521542,   error = 0.295292  %\n",
      "predicted = 34336.511368,   actual = 33114.357748,   error = 3.690706  %\n",
      "predicted = 33192.685009,   actual = 33537.176820,   error = 1.027194  %\n",
      "predicted = 33598.391717,   actual = 35510.289037,   error = 5.384066  %\n",
      "predicted = 35554.879879,   actual = 37472.090104,   error = 5.116369  %\n",
      "predicted = 37520.500288,   actual = 36926.064465,   error = 1.609800  %\n",
      "predicted = 37002.829199,   actual = 38144.306863,   error = 2.992524  %\n",
      "predicted = 38206.181601,   actual = 39266.010735,   error = 2.699101  %\n",
      "predicted = 39329.753616,   actual = 38903.441480,   error = 1.095821  %\n",
      "predicted = 38983.990421,   actual = 46196.463719,   error = 15.612609  %\n",
      "predicted = 46195.401320,   actual = 46481.104236,   error = 0.614665  %\n",
      "predicted = 46570.466262,   actual = 44918.184492,   error = 3.678425  %\n",
      "predicted = 45028.133817,   actual = 47909.331195,   error = 6.013854  %\n",
      "predicted = 47972.691963,   actual = 47504.851183,   error = 0.984827  %\n",
      "predicted = 47603.655328,   actual = 47105.517473,   error = 1.057494  %\n",
      "predicted = 47208.326432,   actual = 48717.290211,   error = 3.097389  %\n",
      "predicted = 48798.446803,   actual = 47945.056832,   error = 1.779933  %\n",
      "predicted = 48051.369820,   actual = 49199.871344,   error = 2.334359  %\n",
      "predicted = 49286.992639,   actual = 52149.007536,   error = 5.488148  %\n",
      "predicted = 52218.172109,   actual = 51679.796694,   error = 1.041752  %\n",
      "predicted = 51788.738419,   actual = 55888.133682,   error = 7.335001  %\n",
      "predicted = 55951.145980,   actual = 56099.520513,   error = 0.264484  %\n",
      "predicted = 56211.854703,   actual = 57539.943668,   error = 2.308117  %\n",
      "predicted = 57643.665404,   actual = 54207.319065,   error = 6.339266  %\n",
      "predicted = 54362.760711,   actual = 48824.426869,   error = 11.343367  %\n",
      "predicted = 48988.201275,   actual = 49705.333316,   error = 1.442767  %\n",
      "predicted = 49803.944693,   actual = 47093.853019,   error = 5.754661  %\n",
      "predicted = 47221.359678,   actual = 46339.760083,   error = 1.902469  %\n",
      "predicted = 46443.701477,   actual = 46188.451275,   error = 0.552628  %\n",
      "predicted = 46284.609965,   actual = 45137.770468,   error = 2.540754  %\n",
      "predicted = 45241.918614,   actual = 49631.241371,   error = 8.843871  %\n",
      "predicted = 49675.629506,   actual = 48378.988054,   error = 2.680175  %\n",
      "predicted = 48494.746558,   actual = 50538.243414,   error = 4.043466  %\n",
      "predicted = 50613.089679,   actual = 48561.166154,   error = 4.225441  %\n",
      "predicted = 48689.171157,   actual = 48927.304555,   error = 0.486709  %\n",
      "predicted = 49021.033716,   actual = 48912.381731,   error = 0.222136  %\n",
      "predicted = 49013.640792,   actual = 51206.692953,   error = 4.282745  %\n",
      "predicted = 51281.296933,   actual = 52246.522310,   error = 1.847444  %\n",
      "predicted = 52343.891533,   actual = 54824.117811,   error = 4.523969  %\n",
      "predicted = 54905.983911,   actual = 56008.549401,   error = 1.968566  %\n",
      "predicted = 56114.994731,   actual = 57805.123019,   error = 2.923838  %\n",
      "predicted = 57905.991131,   actual = 57332.088964,   error = 1.001014  %\n",
      "predicted = 57462.244670,   actual = 61243.084766,   error = 6.173497  %\n",
      "predicted = 61319.824932,   actual = 59302.316977,   error = 3.402073  %\n",
      "predicted = 59462.286098,   actual = 55907.200226,   error = 6.358905  %\n",
      "predicted = 56064.716662,   actual = 56804.901232,   error = 1.303029  %\n",
      "predicted = 56907.745814,   actual = 58870.893333,   error = 3.334666  %\n",
      "predicted = 58968.795658,   actual = 57858.920705,   error = 1.918243  %\n",
      "predicted = 57996.119444,   actual = 58346.652974,   error = 0.600777  %\n",
      "predicted = 58462.327539,   actual = 58313.642609,   error = 0.254975  %\n",
      "predicted = 58437.587138,   actual = 57523.420987,   error = 1.589207  %\n",
      "predicted = 57654.818404,   actual = 54529.145611,   error = 5.732114  %\n",
      "predicted = 54680.154760,   actual = 54738.944930,   error = 0.107401  %\n",
      "predicted = 54847.402947,   actual = 52774.263690,   error = 3.928315  %\n",
      "predicted = 52909.063960,   actual = 51704.161925,   error = 2.330377  %\n",
      "predicted = 51821.811992,   actual = 55137.313726,   error = 6.013172  %\n"
     ]
    },
    {
     "name": "stdout",
     "output_type": "stream",
     "text": [
      "predicted = 55204.516629,   actual = 55973.510842,   error = 1.373854  %\n",
      "predicted = 56082.690275,   actual = 55950.745774,   error = 0.235823  %\n",
      "predicted = 56068.651631,   actual = 57750.199871,   error = 2.911762  %\n",
      "predicted = 57847.578352,   actual = 58917.693045,   error = 1.816287  %\n",
      "predicted = 59028.199553,   actual = 58918.832714,   error = 0.185623  %\n",
      "predicted = 59043.903275,   actual = 59095.807978,   error = 0.087831  %\n",
      "predicted = 59217.920047,   actual = 59384.313359,   error = 0.280197  %\n",
      "predicted = 59505.802322,   actual = 57603.889174,   error = 3.301710  %\n",
      "predicted = 57747.549243,   actual = 58758.556291,   error = 1.720612  %\n",
      "predicted = 58865.147804,   actual = 59057.878966,   error = 0.326343  %\n",
      "predicted = 59179.161517,   actual = 58192.358684,   error = 1.695760  %\n",
      "predicted = 58325.841240,   actual = 56048.937813,   error = 4.062349  %\n",
      "predicted = 56192.220025,   actual = 58323.953580,   error = 3.654988  %\n",
      "predicted = 58414.036445,   actual = 58245.003001,   error = 0.290211  %\n",
      "predicted = 58369.735982,   actual = 59793.235410,   error = 2.380703  %\n",
      "predicted = 59898.134828,   actual = 60204.964914,   error = 0.509642  %\n",
      "predicted = 60327.622465,   actual = 59893.451889,   error = 0.724905  %\n",
      "predicted = 60023.848660,   actual = 63503.457930,   error = 5.479401  %\n",
      "predicted = 63588.439258,   actual = 63109.695935,   error = 0.758589  %\n",
      "predicted = 63252.077859,   actual = 63314.010845,   error = 0.097819  %\n",
      "predicted = 63445.132039,   actual = 61572.789601,   error = 3.040860  %\n",
      "predicted = 61725.901008,   actual = 60683.821233,   error = 1.717228  %\n",
      "predicted = 60821.588350,   actual = 56216.185002,   error = 8.192309  %\n",
      "predicted = 56387.806103,   actual = 55724.267098,   error = 1.190754  %\n",
      "predicted = 55839.711685,   actual = 56473.032281,   error = 1.121457  %\n",
      "predicted = 56579.829737,   actual = 53906.088046,   error = 4.959999  %\n",
      "predicted = 54050.647194,   actual = 51762.272051,   error = 4.420933  %\n",
      "predicted = 51891.337572,   actual = 51093.650710,   error = 1.561225  %\n",
      "predicted = 51202.989067,   actual = 50050.868216,   error = 2.301900  %\n",
      "predicted = 50164.125555,   actual = 49004.253263,   error = 2.366881  %\n",
      "predicted = 49114.256349,   actual = 54021.754787,   error = 9.084300  %\n",
      "predicted = 54064.259421,   actual = 55033.118013,   error = 1.760501  %\n",
      "predicted = 55140.312907,   actual = 54824.704895,   error = 0.575668  %\n",
      "predicted = 54941.255795,   actual = 53555.108491,   error = 2.588263  %\n",
      "predicted = 53680.227454,   actual = 57750.177346,   error = 7.047511  %\n",
      "predicted = 57813.228844,   actual = 57828.050632,   error = 0.025631  %\n",
      "predicted = 57951.174296,   actual = 56631.077413,   error = 2.331047  %\n",
      "predicted = 56763.370270,   actual = 57200.291223,   error = 0.763844  %\n",
      "predicted = 57310.707269,   actual = 53333.537753,   error = 7.457164  %\n",
      "predicted = 53491.306993,   actual = 57424.005948,   error = 6.848528  %\n",
      "predicted = 57480.085873,   actual = 56396.514164,   error = 1.921345  %\n",
      "predicted = 56532.717762,   actual = 57356.401877,   error = 1.436081  %\n",
      "predicted = 57459.893893,   actual = 58803.775809,   error = 2.285367  %\n",
      "predicted = 58906.685718,   actual = 58232.316142,   error = 1.158068  %\n",
      "predicted = 58363.131061,   actual = 55859.797545,   error = 4.481458  %\n",
      "predicted = 56006.891366,   actual = 56704.573059,   error = 1.230380  %\n",
      "predicted = 56806.879671,   actual = 49150.533875,   error = 15.577340  %\n",
      "predicted = 49353.198216,   actual = 49716.191603,   error = 0.730131  %\n",
      "predicted = 49791.320577,   actual = 49880.533420,   error = 0.178853  %\n",
      "predicted = 49980.008133,   actual = 46760.186561,   error = 6.885818  %\n",
      "predicted = 46898.239145,   actual = 46456.058474,   error = 0.951826  %\n",
      "predicted = 46546.399756,   actual = 43537.511389,   error = 6.911025  %\n",
      "predicted = 43663.148933,   actual = 42909.400925,   error = 1.756603  %\n",
      "predicted = 42993.838104,   actual = 37002.440466,   error = 16.191899  %\n",
      "predicted = 37145.677678,   actual = 40782.738262,   error = 8.918137  %\n",
      "predicted = 40768.922401,   actual = 37304.690671,   error = 9.286317  %\n",
      "predicted = 37461.519430,   actual = 37536.631112,   error = 0.200102  %\n",
      "predicted = 37580.164644,   actual = 34770.583623,   error = 8.080339  %\n",
      "predicted = 34885.763169,   actual = 38705.978637,   error = 9.869833  %\n",
      "predicted = 38673.998937,   actual = 38402.223851,   error = 0.707707  %\n",
      "predicted = 38517.398237,   actual = 39294.197382,   error = 1.976880  %\n",
      "predicted = 39349.168623,   actual = 38436.968535,   error = 2.373236  %\n",
      "predicted = 38535.353152,   actual = 35697.606390,   error = 7.949403  %\n",
      "predicted = 35809.459108,   actual = 34616.068003,   error = 3.447506  %\n",
      "predicted = 34678.284857,   actual = 35678.129204,   error = 2.802401  %\n",
      "predicted = 35715.420713,   actual = 37332.853689,   error = 4.332465  %\n",
      "predicted = 37381.166337,   actual = 36684.924517,   error = 1.897896  %\n",
      "predicted = 36780.325141,   actual = 37575.179576,   error = 2.115371  %\n",
      "predicted = 37623.936791,   actual = 39208.765995,   error = 4.042028  %\n",
      "predicted = 39259.959462,   actual = 36894.405330,   error = 6.411688  %\n",
      "predicted = 37020.573547,   actual = 35551.958726,   error = 4.130897  %\n",
      "predicted = 35627.411950,   actual = 35862.377727,   error = 0.655187  %\n",
      "predicted = 35914.015170,   actual = 33560.707838,   error = 7.012091  %\n",
      "predicted = 33668.124349,   actual = 33472.631748,   error = 0.584037  %\n",
      "predicted = 33518.694432,   actual = 37345.121486,   error = 10.246123  %\n",
      "predicted = 37337.135139,   actual = 36702.599375,   error = 1.728858  %\n",
      "predicted = 36811.370199,   actual = 37334.399526,   error = 1.400931  %\n",
      "predicted = 37388.309938,   actual = 35552.517148,   error = 5.163608  %\n",
      "predicted = 35657.970579,   actual = 39097.860897,   error = 8.798155  %\n",
      "predicted = 39082.310612,   actual = 40218.477859,   error = 2.824988  %\n",
      "predicted = 40300.202234,   actual = 40406.268987,   error = 0.262501  %\n",
      "predicted = 40488.388770,   actual = 38347.063227,   error = 5.584067  %\n",
      "predicted = 38461.665196,   actual = 38053.504173,   error = 1.072598  %\n",
      "predicted = 38118.001716,   actual = 35787.244782,   error = 6.512815  %\n",
      "predicted = 35896.053137,   actual = 35615.869270,   error = 0.786683  %\n",
      "predicted = 35669.573087,   actual = 35698.296443,   error = 0.080461  %\n",
      "predicted = 35762.364490,   actual = 31676.693733,   error = 12.898034  %\n",
      "predicted = 31810.299307,   actual = 32505.659824,   error = 2.139198  %\n",
      "predicted = 32518.788990,   actual = 33723.028978,   error = 3.570972  %\n",
      "predicted = 33766.717781,   actual = 34662.435894,   error = 2.584118  %\n",
      "predicted = 34717.014537,   actual = 31637.780055,   error = 9.732777  %\n",
      "predicted = 31760.351316,   actual = 32186.277671,   error = 1.323317  %\n",
      "predicted = 32215.238226,   actual = 34649.644588,   error = 7.025776  %\n",
      "predicted = 34665.266195,   actual = 34434.335314,   error = 0.670641  %\n",
      "predicted = 34516.084991,   actual = 35867.777735,   error = 3.768543  %\n",
      "predicted = 35903.777878,   actual = 35040.837249,   error = 2.462671  %\n",
      "predicted = 35131.454606,   actual = 33572.117653,   error = 4.644738  %\n",
      "predicted = 33659.690472,   actual = 33897.048590,   error = 0.700232  %\n",
      "predicted = 33945.513260,   actual = 34668.548402,   error = 2.085565  %\n",
      "predicted = 34718.867547,   actual = 35287.779766,   error = 1.612207  %\n",
      "predicted = 35345.075670,   actual = 33746.002456,   error = 4.738556  %\n",
      "predicted = 33842.729991,   actual = 34235.193451,   error = 1.146374  %\n",
      "\n",
      " Mean Error: 2.658909  %\n"
     ]
    },
    {
     "data": {
      "image/png": "[encoded data removed]",
      "text/plain": [
       "<Figure size 576x432 with 1 Axes>"
      ]
     },
     "metadata": {
      "needs_background": "light"
     },
     "output_type": "display_data"
    }
   ],
   "source": [
    "train_list = [x for x in series_log_tr]\n",
    "test_list = [y for y in series_log_ts]\n",
    "prediction = list()\n",
    "close = list()\n",
    "error = list()\n",
    "\n",
    "print('Printing Forecasted vs Actual Values:')\n",
    "print('\\n')\n",
    "\n",
    "for i in range(len(series_log_ts)):\n",
    "    model = ARIMA(train_list, order=(2, 1, 0))\n",
    "    model_fit = model.fit(disp=-1)\n",
    "    \n",
    "    output = model_fit.forecast()\n",
    "    \n",
    "    pred = output[0]   \n",
    "    act = test_list[i]\n",
    "    train_list.append(act)\n",
    "    pred = np.exp(pred)\n",
    "    act = np.exp(act)\n",
    "    \n",
    "    # Calculating the error\n",
    "    error_val = ((abs(pred - act)) / act) * 100\n",
    "    error.append(error_val)\n",
    "    print('predicted = %f,   actual = %f,   error = %f ' % (pred, act, error_val), '%')\n",
    "    \n",
    "    prediction.append(float(pred))\n",
    "    close.append(float(act))\n",
    "    \n",
    "# Overall mean error   \n",
    "print('\\n Mean Error: %f ' % (sum(error)/float(len(error))), '%')\n",
    "plot.figure(figsize=(8, 6))\n",
    "test_day = [y for y in range(len(series_log_ts))]\n",
    "labels={'Actual','Forecasted'}\n",
    "plot.plot(test_day, prediction, color= 'blue')\n",
    "plot.plot(test_day, close, color = 'orange')\n",
    "plot.title('Actual Vs Predicted Price')\n",
    "plot.xlabel('Day')\n",
    "plot.ylabel('Closing Price')\n",
    "plot.legend(labels)\n",
    "plot.show()"
   ]
  },
  {
   "cell_type": "code",
   "execution_count": null,
   "id": "d5281828",
   "metadata": {},
   "outputs": [],
   "source": []
  }
 ],
 "metadata": {
  "kernelspec": {
   "display_name": "Python 3",
   "language": "python",
   "name": "python3"
  },
  "language_info": {
   "codemirror_mode": {
    "name": "ipython",
    "version": 3
   },
   "file_extension": ".py",
   "mimetype": "text/x-python",
   "name": "python",
   "nbconvert_exporter": "python",
   "pygments_lexer": "ipython3",
   "version": "3.8.8"
  }
 },
 "nbformat": 4,
 "nbformat_minor": 5
}
